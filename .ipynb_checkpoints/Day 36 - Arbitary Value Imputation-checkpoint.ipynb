{
 "cells": [
  {
   "cell_type": "code",
   "execution_count": null,
   "id": "da304296-95f4-4fcb-8ca8-ef77c8c2fac9",
   "metadata": {},
   "outputs": [],
   "source": [
    "import pandas as pd\n",
    "import numpy as np\n",
    "import matplotlib.pyplot as plt"
   ]
  },
  {
   "cell_type": "code",
   "execution_count": null,
   "id": "d23061c5-7c59-4d74-936e-aa0b55d95cfc",
   "metadata": {},
   "outputs": [],
   "source": [
    "from sklearn.model_selection import train_test_split\n",
    "from sklearn.impute import SimpleImputer\n",
    "from sklearn.compose import ColumnTransformer"
   ]
  },
  {
   "cell_type": "code",
   "execution_count": null,
   "id": "25ff4f6c-b04e-49f9-8018-beb100b185e8",
   "metadata": {},
   "outputs": [],
   "source": [
    "df = pd.read_csv('datasets/titanic_toy.csv')"
   ]
  },
  {
   "cell_type": "code",
   "execution_count": null,
   "id": "6173fb67-6aff-4091-bdaf-4e4bfb9967ab",
   "metadata": {},
   "outputs": [],
   "source": [
    "df.head()"
   ]
  },
  {
   "cell_type": "code",
   "execution_count": null,
   "id": "9a4fe2ad-e213-4713-8b56-128352cb36a5",
   "metadata": {},
   "outputs": [],
   "source": [
    "df.isnull().mean()"
   ]
  },
  {
   "cell_type": "code",
   "execution_count": null,
   "id": "cacef3c4-f40f-486a-9582-10d8b323ee4a",
   "metadata": {},
   "outputs": [],
   "source": [
    "df[\"Age_99\"] = df[\"Age\"].fillna(99)\n",
    "df[\"Age_minus1\"] = df[\"Age\"].fillna(-1)\n",
    "\n",
    "df[\"Fare_999\"] = df[\"Fare\"].fillna(999)\n",
    "df[\"Fare_minus1\"] = df[\"Fare\"].fillna(-1)\n",
    "\n",
    "# This could give us a warning"
   ]
  },
  {
   "cell_type": "code",
   "execution_count": null,
   "id": "a4ced69a-4366-43ec-be3a-f58c95a05021",
   "metadata": {},
   "outputs": [],
   "source": [
    "print('Original Age variable variance: ', X_train[\"Age\"].var())\n",
    "print('Age variance after 99 imputation: ', X_train[\"Age_99\"].var())\n",
    "print('Age variance after -1 imputation: ', X_train[\"Age_minus1\"].var())\n",
    "\n",
    "print('Original Fare variable variance: ', X_train[\"Fare\"].var())\n",
    "print('Fare variance after 999 imputation: ', X_train[\"Fare_999\"].var())\n",
    "print('Fare variance after -1 imputation: ', X_train[\"Fare_minus1\"].var())"
   ]
  },
  {
   "cell_type": "code",
   "execution_count": null,
   "id": "d4e489af-e023-406a-bc7a-8c6354933547",
   "metadata": {},
   "outputs": [],
   "source": [
    "fig = plt.figure()\n",
    "\n",
    "ax = fig.add_subplot(111)\n",
    "\n",
    "# original variance\n",
    "X_train[\"Age\"].plot(kind='kde', ax=ax, color='blue')\n",
    "\n",
    "# median imputation\n",
    "X_train[\"Age_99\"].plot(kind='kde', ax=ax, color='red')\n",
    "\n",
    "# mean imputation\n",
    "X_train[\"Age_minus1\"].plot(kind='kde', ax=ax, color='green')\n",
    "\n",
    "# add legends\n",
    "lines, labels = ax.get_legend_handles_labels()\n",
    "ax.legend(lines, labels, loc='best')"
   ]
  },
  {
   "cell_type": "code",
   "execution_count": null,
   "id": "5f5b43d8-c7c5-43a0-91e3-60423936f04e",
   "metadata": {},
   "outputs": [],
   "source": [
    "fig = plt.figure()\n",
    "\n",
    "ax = fig.add_subplot(111)\n",
    "\n",
    "# original variance\n",
    "X_train[\"Fare\"].plot(kind='kde', ax=ax, color='blue')\n",
    "\n",
    "# median imputation\n",
    "X_train[\"Fare_999\"].plot(kind='kde', ax=ax, color='red')\n",
    "\n",
    "# mean imputation\n",
    "X_train[\"Fare_minus1\"].plot(kind='kde', ax=ax, color='green')\n",
    "\n",
    "# add legends\n",
    "lines, labels = ax.get_legend_handles_labels()\n",
    "ax.legend(lines, labels, loc='best')"
   ]
  },
  {
   "cell_type": "code",
   "execution_count": null,
   "id": "5d853b5f-6b7c-4ba6-abdc-fcaa53fcca22",
   "metadata": {},
   "outputs": [],
   "source": [
    "# Check Covariance\n",
    "X_train.cov()"
   ]
  },
  {
   "cell_type": "code",
   "execution_count": null,
   "id": "0e423dce-9457-443c-a90f-542cc461db17",
   "metadata": {},
   "outputs": [],
   "source": [
    "# Check Correlation\n",
    "X_train.corr()"
   ]
  },
  {
   "cell_type": "markdown",
   "id": "66bf6ce1-f335-43bb-a911-965687918e30",
   "metadata": {},
   "source": [
    "## Using Sklearn"
   ]
  },
  {
   "cell_type": "code",
   "execution_count": null,
   "id": "b46c86df-8390-4507-8123-9ea198378e94",
   "metadata": {},
   "outputs": [],
   "source": [
    "X_train, X_test, y_train, y_test = train_test_split(X, y, test_size=0.2, random_state=2)"
   ]
  },
  {
   "cell_type": "code",
   "execution_count": null,
   "id": "40f1ab82-ee3c-4eee-acfe-437ce32e33fd",
   "metadata": {},
   "outputs": [],
   "source": [
    "imputer_99 = SimpleImputer(strategy='constant', fill_value=99)\n",
    "imputer_999 = SimpleImputer(strategy='constant', fill_value=999)"
   ]
  },
  {
   "cell_type": "code",
   "execution_count": null,
   "id": "a7622b49-4535-4bb1-9b69-fe35c34076eb",
   "metadata": {},
   "outputs": [],
   "source": [
    "# transform columns\n",
    "\n",
    "trf = ColumnTransformer([\n",
    "    ('imputer_99', imputer_99, ['Age']),\n",
    "    ('imputer_999', imputer_999, ['Fare'])\n",
    "], remainder='passthrough')"
   ]
  },
  {
   "cell_type": "code",
   "execution_count": null,
   "id": "19de064c-5c67-43f7-b71d-8d653c2e9400",
   "metadata": {},
   "outputs": [],
   "source": [
    "trf.fit(X_train)"
   ]
  },
  {
   "cell_type": "code",
   "execution_count": null,
   "id": "80d5ce95-6eeb-4136-b2fd-0650ffd9d3f7",
   "metadata": {},
   "outputs": [],
   "source": [
    "trf.named_transformers_['imputer_99'].statistics_"
   ]
  },
  {
   "cell_type": "code",
   "execution_count": null,
   "id": "1332eb6b-72ad-47a6-a46c-ec69e46a9871",
   "metadata": {},
   "outputs": [],
   "source": [
    "trf.named_transformers_['imputer_999'].statistics_"
   ]
  },
  {
   "cell_type": "code",
   "execution_count": null,
   "id": "c96508bf-5d95-46a0-a22e-a01f8256b5c9",
   "metadata": {},
   "outputs": [],
   "source": [
    "X_train = trf.transform(X_train)\n",
    "X_test = trf.transform(X_test)"
   ]
  },
  {
   "cell_type": "code",
   "execution_count": null,
   "id": "c9860fa7-5057-4545-9aab-69402672f158",
   "metadata": {},
   "outputs": [],
   "source": [
    "X_train"
   ]
  },
  {
   "cell_type": "code",
   "execution_count": null,
   "id": "6ddb8e66-7c95-440d-9603-db101aae1c19",
   "metadata": {},
   "outputs": [],
   "source": []
  }
 ],
 "metadata": {
  "kernelspec": {
   "display_name": "Python 3 (ipykernel)",
   "language": "python",
   "name": "python3"
  },
  "language_info": {
   "codemirror_mode": {
    "name": "ipython",
    "version": 3
   },
   "file_extension": ".py",
   "mimetype": "text/x-python",
   "name": "python",
   "nbconvert_exporter": "python",
   "pygments_lexer": "ipython3",
   "version": "3.10.6"
  }
 },
 "nbformat": 4,
 "nbformat_minor": 5
}
