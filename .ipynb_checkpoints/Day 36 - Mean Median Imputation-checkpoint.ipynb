{
 "cells": [
  {
   "cell_type": "code",
   "execution_count": 1,
   "id": "e90122d2-0a22-4d13-ab56-f61d7dfa5bcf",
   "metadata": {},
   "outputs": [],
   "source": [
    "import pandas as pd\n",
    "import numpy as np\n",
    "import matplotlib.pyplot as plt"
   ]
  },
  {
   "cell_type": "code",
   "execution_count": 2,
   "id": "f5567808-b058-4725-8dbf-bfeb47906bb8",
   "metadata": {},
   "outputs": [],
   "source": [
    "from sklearn.model_selection import train_test_split\n",
    "from sklearn.impute import SimpleImputer\n",
    "from sklearn.compose import ColumnTransformer"
   ]
  },
  {
   "cell_type": "code",
   "execution_count": null,
   "id": "476a5a81-f1de-4cb1-9a99-8c276c67a973",
   "metadata": {},
   "outputs": [],
   "source": [
    "df = pd.read_csv('datasets/titanic_toy.csv')"
   ]
  },
  {
   "cell_type": "code",
   "execution_count": null,
   "id": "296d2b91-76c4-48d6-8b97-119176d1d45d",
   "metadata": {},
   "outputs": [],
   "source": [
    "df.head()"
   ]
  },
  {
   "cell_type": "code",
   "execution_count": null,
   "id": "be73a5d7-ac37-4bed-967b-e6045789fe03",
   "metadata": {},
   "outputs": [],
   "source": [
    "df.info()"
   ]
  },
  {
   "cell_type": "code",
   "execution_count": null,
   "id": "0c9318fd-4a24-4db5-9be3-d795126b0323",
   "metadata": {},
   "outputs": [],
   "source": [
    "df.isnull().mean()"
   ]
  },
  {
   "cell_type": "code",
   "execution_count": null,
   "id": "f4aa7dd5-5126-4c1a-9d48-032931fade72",
   "metadata": {},
   "outputs": [],
   "source": [
    "X = df.drop(columns=[\"Survived\"])\n",
    "y = df[\"Survived\"]"
   ]
  },
  {
   "cell_type": "code",
   "execution_count": null,
   "id": "c70b4ef9-6f70-45b5-8fc5-32fec2fc6095",
   "metadata": {},
   "outputs": [],
   "source": [
    "X_train, X_test, y_train, y_test = train_test_split(X, y, test_size=0.2, random_state=2)"
   ]
  },
  {
   "cell_type": "code",
   "execution_count": null,
   "id": "bd0ffdf6-ae4c-476a-9d83-2fe38dbabb0a",
   "metadata": {},
   "outputs": [],
   "source": [
    "X_train.shape, X_test.shape"
   ]
  },
  {
   "cell_type": "code",
   "execution_count": null,
   "id": "ce20ec8e-11c9-4db0-b575-ba2f3baef545",
   "metadata": {},
   "outputs": [],
   "source": [
    "X_train.isnull().mean()"
   ]
  },
  {
   "cell_type": "code",
   "execution_count": null,
   "id": "502873a9-07f9-4d09-bfa7-05a185bf2590",
   "metadata": {},
   "outputs": [],
   "source": [
    "mean_age = X_train[\"Age\"].mean()\n",
    "median_age = X_train[\"Age\"].median()\n",
    "\n",
    "mean_fare = X_train[\"Fare\"].mean()\n",
    "median_fare = X_train[\"Fare\"].median()"
   ]
  },
  {
   "cell_type": "code",
   "execution_count": null,
   "id": "de8e9e1c-c7e9-48a3-afdd-f88ae6e4b581",
   "metadata": {},
   "outputs": [],
   "source": [
    "X_train['Age_median'] = X_train['Age'].fillna(median_age)\n",
    "X_train['Age_mean'] = X_train['Age'].fillna(mean_age)\n",
    "\n",
    "X_train['Fare_median'] = X_train['Fare'].fillna(median_fare)\n",
    "X_train['Fare_mean'] = X_train['Fare'].fillna(mean_fare)"
   ]
  },
  {
   "cell_type": "code",
   "execution_count": null,
   "id": "eb16f120-2ce1-4ee8-9a6e-eb65e59258d9",
   "metadata": {},
   "outputs": [],
   "source": [
    "X_train.sample(5)"
   ]
  },
  {
   "cell_type": "code",
   "execution_count": null,
   "id": "02af6b8b-f98b-422d-948d-5187345863eb",
   "metadata": {},
   "outputs": [],
   "source": [
    "print('Original Age variable variance: ', X_train[\"Age\"].var())\n",
    "print('Age variance after median imputation: ', X_train[\"Age_median\"].var())\n",
    "print('Age variance after mean imputation: ', X_train[\"Age_mean\"].var())\n",
    "\n",
    "print('Original Fare variable variance: ', X_train[\"Fare\"].var())\n",
    "print('Fare variance after median imputation: ', X_train[\"Fare_median\"].var())\n",
    "print('Fare variance after mean imputation: ', X_train[\"Fare_mean\"].var())"
   ]
  },
  {
   "cell_type": "code",
   "execution_count": null,
   "id": "9553a4fc-6539-484b-940c-1812e393f3ee",
   "metadata": {},
   "outputs": [],
   "source": [
    "fig = plt.figure()\n",
    "\n",
    "ax = fig.add_subplot(111)\n",
    "\n",
    "# original variance\n",
    "X_train[\"Age\"].plot(kind='kde', ax=ax, color='blue')\n",
    "\n",
    "# median imputation\n",
    "X_train[\"Age_median\"].plot(kind='kde', ax=ax, color='red')\n",
    "\n",
    "# mean imputation\n",
    "X_train[\"Age_mean\"].plot(kind='kde', ax=ax, color='green')\n",
    "\n",
    "# add legends\n",
    "lines, labels = ax.get_legend_handles_labels()\n",
    "ax.legend(lines, labels, loc='best')"
   ]
  },
  {
   "cell_type": "code",
   "execution_count": null,
   "id": "19c71846-f9bf-4e16-95eb-3db8c691decd",
   "metadata": {},
   "outputs": [],
   "source": [
    "fig = plt.figure()\n",
    "\n",
    "ax = fig.add_subplot(111)\n",
    "\n",
    "# original variance\n",
    "X_train[\"Fare\"].plot(kind='kde', ax=ax, color='blue')\n",
    "\n",
    "# median imputation\n",
    "X_train[\"Fare_median\"].plot(kind='kde', ax=ax, color='red')\n",
    "\n",
    "# mean imputation\n",
    "X_train[\"Fare_mean\"].plot(kind='kde', ax=ax, color='green')\n",
    "\n",
    "# add legends\n",
    "lines, labels = ax.get_legend_handles_labels()\n",
    "ax.legend(lines, labels, loc='best')"
   ]
  },
  {
   "cell_type": "code",
   "execution_count": null,
   "id": "2494d683-6e58-46ef-8ae9-ff2e0085135e",
   "metadata": {},
   "outputs": [],
   "source": [
    "# Check Covariance\n",
    "X_train.cov()"
   ]
  },
  {
   "cell_type": "code",
   "execution_count": null,
   "id": "093b17a4-c6fb-4762-a5ae-957d6896fba3",
   "metadata": {},
   "outputs": [],
   "source": [
    "# Check Correlation\n",
    "X_train.corr()"
   ]
  }
 ],
 "metadata": {
  "kernelspec": {
   "display_name": "Python 3 (ipykernel)",
   "language": "python",
   "name": "python3"
  },
  "language_info": {
   "codemirror_mode": {
    "name": "ipython",
    "version": 3
   },
   "file_extension": ".py",
   "mimetype": "text/x-python",
   "name": "python",
   "nbconvert_exporter": "python",
   "pygments_lexer": "ipython3",
   "version": "3.10.6"
  }
 },
 "nbformat": 4,
 "nbformat_minor": 5
}
