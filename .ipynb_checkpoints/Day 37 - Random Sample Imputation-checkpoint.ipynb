{
 "cells": [
  {
   "cell_type": "code",
   "execution_count": 1,
   "id": "d957d458-c0c1-49fb-b44d-12e422c17ee8",
   "metadata": {},
   "outputs": [],
   "source": [
    "import numpy as np\n",
    "import pandas as pd\n",
    "from sklearn.model_selection import train_test_split\n",
    "\n",
    "import matplotlib.pyplot as plt\n",
    "import seaborn as sns"
   ]
  },
  {
   "cell_type": "code",
   "execution_count": 2,
   "id": "008eec86-a5f3-4322-a0be-3a84838773cd",
   "metadata": {},
   "outputs": [],
   "source": [
    "df = pd.read_csv('datasets/train.csv', usecols=[\"Age\", \"Fare\", \"Survived\"])"
   ]
  },
  {
   "cell_type": "code",
   "execution_count": 3,
   "id": "a7f6bb0f-8629-405e-83cc-c80cd4daa5ff",
   "metadata": {},
   "outputs": [
    {
     "data": {
      "text/html": [
       "<div>\n",
       "<style scoped>\n",
       "    .dataframe tbody tr th:only-of-type {\n",
       "        vertical-align: middle;\n",
       "    }\n",
       "\n",
       "    .dataframe tbody tr th {\n",
       "        vertical-align: top;\n",
       "    }\n",
       "\n",
       "    .dataframe thead th {\n",
       "        text-align: right;\n",
       "    }\n",
       "</style>\n",
       "<table border=\"1\" class=\"dataframe\">\n",
       "  <thead>\n",
       "    <tr style=\"text-align: right;\">\n",
       "      <th></th>\n",
       "      <th>Survived</th>\n",
       "      <th>Age</th>\n",
       "      <th>Fare</th>\n",
       "    </tr>\n",
       "  </thead>\n",
       "  <tbody>\n",
       "    <tr>\n",
       "      <th>0</th>\n",
       "      <td>0</td>\n",
       "      <td>22.0</td>\n",
       "      <td>7.2500</td>\n",
       "    </tr>\n",
       "    <tr>\n",
       "      <th>1</th>\n",
       "      <td>1</td>\n",
       "      <td>38.0</td>\n",
       "      <td>71.2833</td>\n",
       "    </tr>\n",
       "    <tr>\n",
       "      <th>2</th>\n",
       "      <td>1</td>\n",
       "      <td>26.0</td>\n",
       "      <td>7.9250</td>\n",
       "    </tr>\n",
       "    <tr>\n",
       "      <th>3</th>\n",
       "      <td>1</td>\n",
       "      <td>35.0</td>\n",
       "      <td>53.1000</td>\n",
       "    </tr>\n",
       "    <tr>\n",
       "      <th>4</th>\n",
       "      <td>0</td>\n",
       "      <td>35.0</td>\n",
       "      <td>8.0500</td>\n",
       "    </tr>\n",
       "  </tbody>\n",
       "</table>\n",
       "</div>"
      ],
      "text/plain": [
       "   Survived   Age     Fare\n",
       "0         0  22.0   7.2500\n",
       "1         1  38.0  71.2833\n",
       "2         1  26.0   7.9250\n",
       "3         1  35.0  53.1000\n",
       "4         0  35.0   8.0500"
      ]
     },
     "execution_count": 3,
     "metadata": {},
     "output_type": "execute_result"
    }
   ],
   "source": [
    "df.head()"
   ]
  },
  {
   "cell_type": "code",
   "execution_count": 5,
   "id": "ddf56c5d-5e1a-4bec-951a-bb9800d6d56c",
   "metadata": {},
   "outputs": [
    {
     "data": {
      "text/plain": [
       "Survived     0.00000\n",
       "Age         19.86532\n",
       "Fare         0.00000\n",
       "dtype: float64"
      ]
     },
     "execution_count": 5,
     "metadata": {},
     "output_type": "execute_result"
    }
   ],
   "source": [
    "df.isnull().mean()*100"
   ]
  },
  {
   "cell_type": "code",
   "execution_count": 6,
   "id": "148dbe47-1005-4e6c-9660-db430a5ba728",
   "metadata": {},
   "outputs": [],
   "source": [
    "X = df.drop(columns=[\"Survived\"])\n",
    "y = df[\"Survived\"]"
   ]
  },
  {
   "cell_type": "code",
   "execution_count": 7,
   "id": "680b16c0-748b-456b-b5ba-8f11789b16ec",
   "metadata": {},
   "outputs": [],
   "source": [
    "X_train, X_test, y_train, y_test = train_test_split(X, y, test_size=0.2, random_state=2)"
   ]
  },
  {
   "cell_type": "code",
   "execution_count": 8,
   "id": "9d3788eb-6966-4866-af24-b8b47431be9a",
   "metadata": {},
   "outputs": [],
   "source": [
    "X_train[\"Age_imputed\"] = X_train[\"Age\"]\n",
    "X_test[\"Age_imputed\"] = X_test[\"Age\"]"
   ]
  },
  {
   "cell_type": "code",
   "execution_count": 12,
   "id": "90ed0227-eeeb-4312-85c9-279ff3a33078",
   "metadata": {},
   "outputs": [],
   "source": [
    "X_train[\"Age_imputed\"][X_train[\"Age_imputed\"].isnull()] = X_train[\"Age\"].dropna().sample(X_train[\"Age\"].isnull().sum()).values\n",
    "X_test[\"Age_imputed\"][X_test[\"Age_imputed\"].isnull()] = X_test[\"Age\"].dropna().sample(X_test[\"Age\"].isnull().sum()).values"
   ]
  },
  {
   "cell_type": "code",
   "execution_count": 13,
   "id": "e8e218af-9844-487a-b3cd-3fad0be73c07",
   "metadata": {},
   "outputs": [],
   "source": [
    "# Above code is a little confusing but go through it one by one, and you should get what it means."
   ]
  },
  {
   "cell_type": "code",
   "execution_count": 17,
   "id": "e42468ac-bf9b-459a-a7d9-de1000471efa",
   "metadata": {},
   "outputs": [
    {
     "name": "stderr",
     "output_type": "stream",
     "text": [
      "/var/folders/cb/g9zml9hd4fgfyshv4x2_v4q40000gn/T/ipykernel_32296/1079629169.py:3: UserWarning: \n",
      "\n",
      "`distplot` is a deprecated function and will be removed in seaborn v0.14.0.\n",
      "\n",
      "Please adapt your code to use either `displot` (a figure-level function with\n",
      "similar flexibility) or `kdeplot` (an axes-level function for kernel density plots).\n",
      "\n",
      "For a guide to updating your code to use the new functions, please see\n",
      "https://gist.github.com/mwaskom/de44147ed2974457ad6372750bbe5751\n",
      "\n",
      "  sns.distplot(X_train[\"Age\"], label=\"Original\", hist=False)\n",
      "/var/folders/cb/g9zml9hd4fgfyshv4x2_v4q40000gn/T/ipykernel_32296/1079629169.py:4: UserWarning: \n",
      "\n",
      "`distplot` is a deprecated function and will be removed in seaborn v0.14.0.\n",
      "\n",
      "Please adapt your code to use either `displot` (a figure-level function with\n",
      "similar flexibility) or `kdeplot` (an axes-level function for kernel density plots).\n",
      "\n",
      "For a guide to updating your code to use the new functions, please see\n",
      "https://gist.github.com/mwaskom/de44147ed2974457ad6372750bbe5751\n",
      "\n",
      "  sns.distplot(X_train[\"Age_imputed\"], label=\"Imputed\", hist=False)\n"
     ]
    },
    {
     "data": {
      "image/png": "[encoded data removed]",
      "text/plain": [
       "<Figure size 640x480 with 1 Axes>"
      ]
     },
     "metadata": {},
     "output_type": "display_data"
    }
   ],
   "source": [
    "# Lets see how the distribution has changed\n",
    "\n",
    "sns.distplot(X_train[\"Age\"], label=\"Original\", hist=False)\n",
    "sns.distplot(X_train[\"Age_imputed\"], label=\"Imputed\", hist=False)\n",
    "\n",
    "plt.legend()\n",
    "plt.show()"
   ]
  },
  {
   "cell_type": "code",
   "execution_count": 18,
   "id": "529bd887-2d88-43ae-9bd7-6c7a24ac4cdb",
   "metadata": {},
   "outputs": [
    {
     "name": "stdout",
     "output_type": "stream",
     "text": [
      "Original variable variance:  204.34951339046142\n",
      "Variance after random imputations:  206.47929767537414\n"
     ]
    }
   ],
   "source": [
    "print(\"Original variable variance: \", X_train[\"Age\"].var())\n",
    "print(\"Variance after random imputations: \", X_train[\"Age_imputed\"].var())"
   ]
  },
  {
   "cell_type": "code",
   "execution_count": 19,
   "id": "c06c05f9-8141-4d4d-ab72-1ac03b13e0b3",
   "metadata": {},
   "outputs": [
    {
     "data": {
      "text/html": [
       "<div>\n",
       "<style scoped>\n",
       "    .dataframe tbody tr th:only-of-type {\n",
       "        vertical-align: middle;\n",
       "    }\n",
       "\n",
       "    .dataframe tbody tr th {\n",
       "        vertical-align: top;\n",
       "    }\n",
       "\n",
       "    .dataframe thead th {\n",
       "        text-align: right;\n",
       "    }\n",
       "</style>\n",
       "<table border=\"1\" class=\"dataframe\">\n",
       "  <thead>\n",
       "    <tr style=\"text-align: right;\">\n",
       "      <th></th>\n",
       "      <th>Fare</th>\n",
       "      <th>Age</th>\n",
       "      <th>Age_imputed</th>\n",
       "    </tr>\n",
       "  </thead>\n",
       "  <tbody>\n",
       "    <tr>\n",
       "      <th>Fare</th>\n",
       "      <td>2368.246832</td>\n",
       "      <td>71.512440</td>\n",
       "      <td>50.127598</td>\n",
       "    </tr>\n",
       "    <tr>\n",
       "      <th>Age</th>\n",
       "      <td>71.512440</td>\n",
       "      <td>204.349513</td>\n",
       "      <td>204.349513</td>\n",
       "    </tr>\n",
       "    <tr>\n",
       "      <th>Age_imputed</th>\n",
       "      <td>50.127598</td>\n",
       "      <td>204.349513</td>\n",
       "      <td>206.479298</td>\n",
       "    </tr>\n",
       "  </tbody>\n",
       "</table>\n",
       "</div>"
      ],
      "text/plain": [
       "                    Fare         Age  Age_imputed\n",
       "Fare         2368.246832   71.512440    50.127598\n",
       "Age            71.512440  204.349513   204.349513\n",
       "Age_imputed    50.127598  204.349513   206.479298"
      ]
     },
     "execution_count": 19,
     "metadata": {},
     "output_type": "execute_result"
    }
   ],
   "source": [
    "X_train[[\"Fare\", \"Age\", \"Age_imputed\"]].cov()"
   ]
  },
  {
   "cell_type": "code",
   "execution_count": 20,
   "id": "907cb179-f218-4cf5-935a-a8cbc4e283e8",
   "metadata": {},
   "outputs": [
    {
     "data": {
      "text/plain": [
       "<Axes: >"
      ]
     },
     "execution_count": 20,
     "metadata": {},
     "output_type": "execute_result"
    },
    {
     "data": {
      "image/png": "[encoded data removed]",
      "text/plain": [
       "<Figure size 640x480 with 1 Axes>"
      ]
     },
     "metadata": {},
     "output_type": "display_data"
    }
   ],
   "source": [
    "X_train[[\"Age\", \"Age_imputed\"]].boxplot()"
   ]
  },
  {
   "cell_type": "code",
   "execution_count": 25,
   "id": "2638bced-73c7-4421-81ab-e5c2fdfa766b",
   "metadata": {},
   "outputs": [],
   "source": [
    "# This code should be used in production\n",
    "# This makes sure, for same fare value, we should get same random state\n",
    "\n",
    "# sampled_value = X_train[\"Age\"].dropna().sample(1, random_state=int(observation[\"Fare\"]))"
   ]
  },
  {
   "cell_type": "markdown",
   "id": "492aea76-c779-466f-bb60-5a894126d6c0",
   "metadata": {},
   "source": [
    "# Categorical Data"
   ]
  },
  {
   "cell_type": "code",
   "execution_count": null,
   "id": "c26253c0-b009-46aa-969b-725d416fcebe",
   "metadata": {},
   "outputs": [],
   "source": [
    "data = pd.read_csv('datasets/house-train.csv', usecols=[\"GarageQual\", \"FireplaceQu\", \"SalePrice\"])\n",
    "\n",
    "# Data needs to imported from git"
   ]
  },
  {
   "cell_type": "code",
   "execution_count": null,
   "id": "6636a49d-7022-4f5c-830d-12fbcde2e4a2",
   "metadata": {},
   "outputs": [],
   "source": [
    "data.head()"
   ]
  },
  {
   "cell_type": "code",
   "execution_count": null,
   "id": "1d64c13b-7146-4f26-b43b-c2963096b031",
   "metadata": {},
   "outputs": [],
   "source": [
    "data.isnull().mean() * 100"
   ]
  },
  {
   "cell_type": "code",
   "execution_count": null,
   "id": "8c0400ca-b75e-4135-b70c-b771fbedd103",
   "metadata": {},
   "outputs": [],
   "source": [
    "X = data\n",
    "y = data[\"SalePrice\"]"
   ]
  },
  {
   "cell_type": "code",
   "execution_count": null,
   "id": "1714e93a-e76b-4158-9ff3-adf2fc5df304",
   "metadata": {},
   "outputs": [],
   "source": [
    "X_train, X_test, y_train, y_test = train_test_split(X, y, test_size = 0.2, randome_state=2)"
   ]
  },
  {
   "cell_type": "code",
   "execution_count": null,
   "id": "a62688a7-d061-4a2a-b11e-0de352776455",
   "metadata": {},
   "outputs": [],
   "source": [
    "X_train[\"GarageQual_imputed\"] = X_train[\"GarageQual\"]\n",
    "X_test[\"GarageQual_imputed\"] = X_test[\"GarageQual\"]\n",
    "\n",
    "X_train[\"FireplaceQu_imputed\"] = X_train[\"FireplaceQu\"]\n",
    "X_test[\"FireplaceQu_imputed\"] = X_test[\"FireplaceQu\"]"
   ]
  },
  {
   "cell_type": "code",
   "execution_count": null,
   "id": "8eb58fda-8cb9-484c-a6ae-b3737a1373ce",
   "metadata": {},
   "outputs": [],
   "source": [
    "\n",
    "\n",
    "X_train[\"GarageQual_imputed\"][X_train[\"GarageQual_imputed\"].isnull()] = X_train[\"GarageQual\"].dropna().sample(X_train[\"GarageQual\"].isnull().sum()).values\n",
    "X_test[\"GarageQual_imputed\"][X_test[\"GarageQual_imputed\"].isnull()] = X_test[\"GarageQual\"].dropna().sample(X_test[\"GarageQual\"].isnull().sum()).values\n",
    "\n",
    "X_train[\"FireplaceQu_imputed\"][X_train[\"FireplaceQu_imputed\"].isnull()] = X_train[\"FireplaceQu\"].dropna().sample(X_train[\"FireplaceQu\"].isnull().sum()).values\n",
    "X_test[\"FireplaceQu_imputed\"][X_test[\"FireplaceQu_imputed\"].isnull()] = X_test[\"FireplaceQu\"].dropna().sample(X_test[\"FireplaceQu\"].isnull().sum()).values"
   ]
  },
  {
   "cell_type": "code",
   "execution_count": null,
   "id": "77fe5270-de9c-4f49-887f-55d78743844a",
   "metadata": {},
   "outputs": [],
   "source": [
    "temp = pd.concat(\n",
    "    [\n",
    "        X_train[\"GarageQual\"].value_counts() / len(X_train[\"GarageQual\"].dropna()),\n",
    "        X_train[\"GarageQual_imputed\"].value_counts() / len(X_train)\n",
    "    ], axis = 1\n",
    ")\n",
    "temp.columns = ['original', 'imputed']"
   ]
  },
  {
   "cell_type": "code",
   "execution_count": null,
   "id": "5ae66213-c907-44ea-93c3-a5d1108528ac",
   "metadata": {},
   "outputs": [],
   "source": [
    "temp"
   ]
  },
  {
   "cell_type": "code",
   "execution_count": null,
   "id": "a624558c-b42d-4e3b-bfe0-00eec9e633c4",
   "metadata": {},
   "outputs": [],
   "source": [
    "temp = pd.concat(\n",
    "    [\n",
    "        X_train[\"FireplaceQu\"].value_counts() / len(X_train[\"FireplaceQu\"].dropna()),\n",
    "        X_train[\"FireplaceQu_imputed\"].value_counts() / len(X_train)\n",
    "    ], axis = 1\n",
    ")\n",
    "temp.columns = ['original', 'imputed']"
   ]
  },
  {
   "cell_type": "code",
   "execution_count": null,
   "id": "dc5b25f3-299b-487d-8df3-3af13e6212ce",
   "metadata": {},
   "outputs": [],
   "source": [
    "temp"
   ]
  },
  {
   "cell_type": "code",
   "execution_count": null,
   "id": "718f01ed-6389-4d66-bff8-f4129f6fe5d4",
   "metadata": {},
   "outputs": [],
   "source": [
    "# We can detect this problem by plotting 1\n",
    "for category in X_train[\"FireplaceQu\"].dropna().unique():\n",
    "    sns.distplot(X_train[X_train[\"FireplaceQu\"] == category][\"SalePrice\"], hist=False, label=category)\n",
    "\n",
    "plt.show()"
   ]
  },
  {
   "cell_type": "code",
   "execution_count": null,
   "id": "a38f4d24-d3bb-46bb-ac74-04d68a84da5c",
   "metadata": {},
   "outputs": [],
   "source": [
    "# We can detect this problem by plotting and 2, compare these\n",
    "for category in X_train[\"FireplaceQu_imputed\"].dropna().unique():\n",
    "    sns.distplot(X_train[X_train[\"FireplaceQu_imputed\"] == category][\"SalePrice\"], hist=False, label=category)\n",
    "\n",
    "plt.show()"
   ]
  },
  {
   "cell_type": "code",
   "execution_count": null,
   "id": "c76d88cd-847d-4aaf-bb24-a76108aa42b8",
   "metadata": {},
   "outputs": [],
   "source": []
  }
 ],
 "metadata": {
  "kernelspec": {
   "display_name": "Python 3 (ipykernel)",
   "language": "python",
   "name": "python3"
  },
  "language_info": {
   "codemirror_mode": {
    "name": "ipython",
    "version": 3
   },
   "file_extension": ".py",
   "mimetype": "text/x-python",
   "name": "python",
   "nbconvert_exporter": "python",
   "pygments_lexer": "ipython3",
   "version": "3.10.6"
  }
 },
 "nbformat": 4,
 "nbformat_minor": 5
}
